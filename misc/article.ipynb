{
 "cells": [
  {
   "cell_type": "markdown",
   "metadata": {},
   "source": [
    "#Ligthweight use and trash VMs/Containers tool: Clustdock"
   ]
  },
  {
   "cell_type": "markdown",
   "metadata": {},
   "source": [
    "There are some big Cloud Operating System on the market that are doing more or less things such as controlling pool of compute nodes, storage pool, networking ressources. This kind of software is cumbersome to install and use. \n",
    "\n",
    "Clustdock is a lightweight client/server tool to manage ressources such as Containers or Virtual Machine on a pool of compute nodes, with a shared storage. It's aim is to provide a quick way to launch several containers/VMs in few seconds and, when your experiments are finish, to simply delete all ressources you previously create.\n",
    "It's based on libvirt library for Virtual Machines management and on Docker for containers management.\n",
    "\n",
    "In this document, we present the ease of use of this tool and the main functionnalities."
   ]
  },
  {
   "cell_type": "markdown",
   "metadata": {},
   "source": [
    "## Prerequisites"
   ]
  },
  {
   "cell_type": "markdown",
   "metadata": {},
   "source": [
    "In order to use Clustdock, you have to configure some ressources.\n",
    "> **SSH**: You must have ssh access for the root account with private-key on all nodes you want to use.\n",
    "\n",
    "> **Libvirt**: Libvirt must be installed on all compute nodes you want to use for spawning VMs.\n",
    "\n",
    "> **Docker**: Docker must be installed on all compute nodes you want to use for spawning containers. It must be configured to listen on a <code>tcp</code> socket."
   ]
  },
  {
   "cell_type": "markdown",
   "metadata": {},
   "source": [
    "## Configuration"
   ]
  },
  {
   "cell_type": "markdown",
   "metadata": {},
   "source": [
    "The main configuration file is <code>clustdockd.conf</code>. It defines:\n",
    "* <code>server_port</code>: on which port the server is listening to\n",
    "* <code>hosts</code>: the list of compute nodes we have to manage\n",
    "* <code>docker_port</code>: the port on which docker is listening to\n",
    "* <code>profiles</code>: the list of profiles you are able to spawn"
   ]
  },
  {
   "cell_type": "markdown",
   "metadata": {},
   "source": [
    "## Functionnalities"
   ]
  }
 ],
 "metadata": {
  "kernelspec": {
   "display_name": "Python 2",
   "language": "python",
   "name": "python2"
  },
  "language_info": {
   "codemirror_mode": {
    "name": "ipython",
    "version": 2
   },
   "file_extension": ".py",
   "mimetype": "text/x-python",
   "name": "python",
   "nbconvert_exporter": "python",
   "pygments_lexer": "ipython2",
   "version": "2.7.10"
  }
 },
 "nbformat": 4,
 "nbformat_minor": 0
}
